{
 "cells": [
  {
   "cell_type": "code",
   "execution_count": 5,
   "metadata": {},
   "outputs": [
    {
     "data": {
      "text/plain": [
       "['The quick brown fox jumps over the lazy dog.',\n",
       " \"It was a bright and sunny day, but she didn't feel like going outside.\",\n",
       " \"He couldn't understand why the weather affected his mood so much.\",\n",
       " 'However, he decided not to let it bother him and continued reading his favorite book.']"
      ]
     },
     "execution_count": 5,
     "metadata": {},
     "output_type": "execute_result"
    }
   ],
   "source": [
    "import nltk\n",
    "from nltk.corpus import stopwords\n",
    "sentences= nltk.sent_tokenize(paragraph)\n",
    "sentences"
   ]
  },
  {
   "cell_type": "code",
   "execution_count": 6,
   "metadata": {},
   "outputs": [
    {
     "name": "stdout",
     "output_type": "stream",
     "text": [
      "[('The', 'DT'), ('quick', 'JJ'), ('brown', 'NN'), ('fox', 'NN'), ('jumps', 'NNS'), ('lazy', 'JJ'), ('dog', 'NN'), ('.', '.')]\n",
      "[('It', 'PRP'), ('bright', 'VBD'), ('sunny', 'JJ'), ('day', 'NN'), (',', ','), (\"n't\", 'RB'), ('feel', 'VB'), ('like', 'IN'), ('going', 'VBG'), ('outside', 'JJ'), ('.', '.')]\n",
      "[('He', 'PRP'), ('could', 'MD'), (\"n't\", 'RB'), ('understand', 'VB'), ('weather', 'RB'), ('affected', 'JJ'), ('mood', 'NN'), ('much', 'RB'), ('.', '.')]\n",
      "[('However', 'RB'), (',', ','), ('decided', 'VBD'), ('let', 'NN'), ('bother', 'PRP'), ('continued', 'VBD'), ('reading', 'VBG'), ('favorite', 'JJ'), ('book', 'NN'), ('.', '.')]\n"
     ]
    }
   ],
   "source": [
    "# Iterate over each sentence in the list\n",
    "for i in range(len(sentences)):\n",
    "\n",
    "    # Tokenize the sentence into words\n",
    "    words=nltk.word_tokenize(sentences[i])\n",
    "\n",
    "    #  Removing stop words\n",
    "    words=[word for word in words if word not in set(stopwords.words('english'))]\n",
    "\n",
    "    # Finding POS Tag\n",
    "    pos_tag= nltk.pos_tag(words)\n",
    "    print(pos_tag)"
   ]
  },
  {
   "cell_type": "code",
   "execution_count": 4,
   "metadata": {},
   "outputs": [],
   "source": [
    "paragraph= \"\"\"The quick brown fox jumps over the lazy dog. It was a bright and sunny day, but she didn't feel like going outside. He couldn't understand why the weather affected his mood so much. However, he decided not to let it bother him and continued reading his favorite book.\"\"\""
   ]
  },
  {
   "cell_type": "code",
   "execution_count": null,
   "metadata": {},
   "outputs": [],
   "source": []
  }
 ],
 "metadata": {
  "kernelspec": {
   "display_name": "Python 3",
   "language": "python",
   "name": "python3"
  },
  "language_info": {
   "codemirror_mode": {
    "name": "ipython",
    "version": 3
   },
   "file_extension": ".py",
   "mimetype": "text/x-python",
   "name": "python",
   "nbconvert_exporter": "python",
   "pygments_lexer": "ipython3",
   "version": "3.11.3"
  }
 },
 "nbformat": 4,
 "nbformat_minor": 2
}
