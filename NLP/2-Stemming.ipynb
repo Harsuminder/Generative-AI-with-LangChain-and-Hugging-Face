{
 "cells": [
  {
   "cell_type": "markdown",
   "metadata": {},
   "source": [
    "## **Stemming in NLP**\n",
    "Stemming is a text normalization technique that reduces words to their root form by **removing suffixes**. It is commonly used in **text processing, search engines, and NLP applications**.\n",
    "\n",
    "### **Examples:**\n",
    "- `writing` → `writ`\n",
    "- `happily` → `happili`\n",
    "- `running` → `run`"
   ]
  },
  {
   "cell_type": "code",
   "execution_count": 8,
   "metadata": {},
   "outputs": [],
   "source": [
    "words = [\n",
    "    \"writing\", \"writes\", \"written\", \"writer\", \"wrote\", \"rewrite\", \"rewriting\", \"rewritten\",\n",
    "    \"running\", \"runs\", \"ran\", \"runner\", \"runners\",\n",
    "    \"studying\", \"studies\", \"studied\", \"student\", \"students\",\n",
    "    \"playing\", \"plays\", \"played\", \"player\", \"players\",\n",
    "    \"singing\", \"sings\", \"sang\", \"singer\", \"singers\"]\n"
   ]
  },
  {
   "cell_type": "markdown",
   "metadata": {},
   "source": [
    "## **Porter Stemmer in NLP**\n",
    "The **Porter Stemmer** is a widely used stemming algorithm that reduces words to their root form by applying a set of **suffix-stripping rules**.\n",
    "\n",
    "### **Examples:**\n",
    "- `running` → `run`\n",
    "- `happily` → `happili`\n",
    "- `studies` → `studi`\n",
    "- `writing` → `write`\n",
    "\n",
    "✅ **Efficient and fast**  \n",
    "✅ **Good for text normalization**  \n",
    "❌ **Sometimes over-stems words (e.g., \"happiness\" → \"happi\")**\n"
   ]
  },
  {
   "cell_type": "code",
   "execution_count": 9,
   "metadata": {},
   "outputs": [],
   "source": [
    "from nltk.stem import PorterStemmer"
   ]
  },
  {
   "cell_type": "code",
   "execution_count": 10,
   "metadata": {},
   "outputs": [],
   "source": [
    "stemming= PorterStemmer()"
   ]
  },
  {
   "cell_type": "code",
   "execution_count": 11,
   "metadata": {},
   "outputs": [
    {
     "name": "stdout",
     "output_type": "stream",
     "text": [
      "writing-->write\n",
      "writes-->write\n",
      "written-->written\n",
      "writer-->writer\n",
      "wrote-->wrote\n",
      "rewrite-->rewrit\n",
      "rewriting-->rewrit\n",
      "rewritten-->rewritten\n",
      "running-->run\n",
      "runs-->run\n",
      "ran-->ran\n",
      "runner-->runner\n",
      "runners-->runner\n",
      "studying-->studi\n",
      "studies-->studi\n",
      "studied-->studi\n",
      "student-->student\n",
      "students-->student\n",
      "playing-->play\n",
      "plays-->play\n",
      "played-->play\n",
      "player-->player\n",
      "players-->player\n",
      "singing-->sing\n",
      "sings-->sing\n",
      "sang-->sang\n",
      "singer-->singer\n",
      "singers-->singer\n"
     ]
    }
   ],
   "source": [
    "for word in words:\n",
    "    print(word+ \"-->\"+stemming.stem(word))"
   ]
  },
  {
   "cell_type": "code",
   "execution_count": 12,
   "metadata": {},
   "outputs": [
    {
     "data": {
      "text/plain": [
       "'congratul'"
      ]
     },
     "execution_count": 12,
     "metadata": {},
     "output_type": "execute_result"
    }
   ],
   "source": [
    "stemming.stem('congratulations')"
   ]
  },
  {
   "cell_type": "code",
   "execution_count": 13,
   "metadata": {},
   "outputs": [
    {
     "data": {
      "text/plain": [
       "'histori'"
      ]
     },
     "execution_count": 13,
     "metadata": {},
     "output_type": "execute_result"
    }
   ],
   "source": [
    "stemming.stem('history')"
   ]
  },
  {
   "cell_type": "markdown",
   "metadata": {},
   "source": [
    "## **RegexpStemmer in NLP**\n",
    "`RegexpStemmer` is a rule-based stemming technique in **NLTK** that removes or replaces parts of words using **regular expressions**. It is useful for customizing stemming rules when other stemmers are too aggressive or not precise.\n",
    "\n",
    "**Example:** Removing common suffixes like `ing`, `ly`, `ed`, `es`, `s`.\n"
   ]
  },
  {
   "cell_type": "code",
   "execution_count": 14,
   "metadata": {},
   "outputs": [],
   "source": [
    "from nltk.stem import RegexpStemmer"
   ]
  },
  {
   "cell_type": "code",
   "execution_count": 19,
   "metadata": {},
   "outputs": [],
   "source": [
    "regex_stemmer= RegexpStemmer('ing$|s$|e$|ed$|able$', min=4)"
   ]
  },
  {
   "cell_type": "code",
   "execution_count": 20,
   "metadata": {},
   "outputs": [
    {
     "name": "stdout",
     "output_type": "stream",
     "text": [
      "writing-->writ\n",
      "writes-->write\n",
      "written-->written\n",
      "writer-->writer\n",
      "wrote-->wrot\n",
      "rewrite-->rewrit\n",
      "rewriting-->rewrit\n",
      "rewritten-->rewritten\n",
      "running-->runn\n",
      "runs-->run\n",
      "ran-->ran\n",
      "runner-->runner\n",
      "runners-->runner\n",
      "studying-->study\n",
      "studies-->studie\n",
      "studied-->studi\n",
      "student-->student\n",
      "students-->student\n",
      "playing-->play\n",
      "plays-->play\n",
      "played-->play\n",
      "player-->player\n",
      "players-->player\n",
      "singing-->sing\n",
      "sings-->sing\n",
      "sang-->sang\n",
      "singer-->singer\n",
      "singers-->singer\n"
     ]
    }
   ],
   "source": [
    "for word in words:\n",
    "    print(word+ \"-->\"+regex_stemmer.stem(word))"
   ]
  },
  {
   "cell_type": "markdown",
   "metadata": {},
   "source": [
    "## **Snowball Stemmer in NLP**\n",
    "The **Snowball Stemmer** is an improved version of the **Porter Stemmer** that provides better accuracy and supports multiple languages. It is useful for text processing tasks where **stemming precision** is important.\n",
    "\n",
    "### **Examples:**\n",
    "- `running` → `run`\n",
    "- `happily` → `happili`\n",
    "- `studying` → `studi`\n",
    "\n",
    "**Supports languages like:** English, French, Spanish, German, and more.\n"
   ]
  },
  {
   "cell_type": "code",
   "execution_count": 22,
   "metadata": {},
   "outputs": [],
   "source": [
    "from nltk.stem import SnowballStemmer"
   ]
  },
  {
   "cell_type": "code",
   "execution_count": 24,
   "metadata": {},
   "outputs": [],
   "source": [
    "snowball_stemmer= SnowballStemmer('english')"
   ]
  },
  {
   "cell_type": "code",
   "execution_count": 25,
   "metadata": {},
   "outputs": [
    {
     "name": "stdout",
     "output_type": "stream",
     "text": [
      "writing-->write\n",
      "writes-->write\n",
      "written-->written\n",
      "writer-->writer\n",
      "wrote-->wrote\n",
      "rewrite-->rewrit\n",
      "rewriting-->rewrit\n",
      "rewritten-->rewritten\n",
      "running-->run\n",
      "runs-->run\n",
      "ran-->ran\n",
      "runner-->runner\n",
      "runners-->runner\n",
      "studying-->studi\n",
      "studies-->studi\n",
      "studied-->studi\n",
      "student-->student\n",
      "students-->student\n",
      "playing-->play\n",
      "plays-->play\n",
      "played-->play\n",
      "player-->player\n",
      "players-->player\n",
      "singing-->sing\n",
      "sings-->sing\n",
      "sang-->sang\n",
      "singer-->singer\n",
      "singers-->singer\n"
     ]
    }
   ],
   "source": [
    "for word in words:\n",
    "    print(word+ \"-->\"+snowball_stemmer.stem(word))"
   ]
  },
  {
   "cell_type": "markdown",
   "metadata": {},
   "source": [
    "## **Comparison between PorterStemmer and SnowballStemmer**"
   ]
  },
  {
   "cell_type": "code",
   "execution_count": 27,
   "metadata": {},
   "outputs": [
    {
     "data": {
      "text/plain": [
       "('fairli', 'sportingli')"
      ]
     },
     "execution_count": 27,
     "metadata": {},
     "output_type": "execute_result"
    }
   ],
   "source": [
    "stemming.stem(\"fairly\"), stemming.stem(\"sportingly\")"
   ]
  },
  {
   "cell_type": "code",
   "execution_count": 28,
   "metadata": {},
   "outputs": [
    {
     "data": {
      "text/plain": [
       "('fair', 'sport')"
      ]
     },
     "execution_count": 28,
     "metadata": {},
     "output_type": "execute_result"
    }
   ],
   "source": [
    "snowball_stemmer.stem(\"fairly\"), snowball_stemmer.stem(\"sportingly\")"
   ]
  },
  {
   "cell_type": "markdown",
   "metadata": {},
   "source": [
    "## **Disadvantages of Stemming**\n",
    "Stemming is a technique used to reduce words to their root form by removing suffixes. However, it has several disadvantages:\n",
    "\n",
    "- **Over-Stemming**: Sometimes removes too much of the word, leading to incorrect roots.  \n",
    "  - Example: `\"happiness\"` → `\"happi\"`\n",
    "- **Under-Stemming**: Some word variations are not reduced to the same root.  \n",
    "  - Example: `\"ran\"` and `\"running\"` are not stemmed to the same form.\n",
    "- **Not Context-Aware**: It does not consider the meaning of words.  \n",
    "  - Example: `\"better\"` is stemmed to `\"better\"`, but its actual root should be `\"good\"`.\n",
    "- **Not Always a Real Word**: Stemming produces roots that may not exist in the dictionary.  \n",
    "  - Example: `\"studies\"` → `\"studi\"`, which is not a real word.\n",
    "- **Not Suitable for Chatbots**: Since stemming does not consider word meanings, it is **not ideal for conversational AI**.  \n",
    "  - Example: `\"went\"` (past tense of `\"go\"`) is not stemmed correctly.\n",
    "\n",
    "### **Use Lemmatization Instead?**\n",
    "Lemmatization solves these problems by converting words to their **actual dictionary form** using a vocabulary and morphological analysis. It is more **accurate and context-aware**, making it better for applications like **chatbots, text analysis, and NLP**.\n"
   ]
  },
  {
   "cell_type": "code",
   "execution_count": null,
   "metadata": {},
   "outputs": [],
   "source": []
  }
 ],
 "metadata": {
  "kernelspec": {
   "display_name": "Python 3",
   "language": "python",
   "name": "python3"
  },
  "language_info": {
   "codemirror_mode": {
    "name": "ipython",
    "version": 3
   },
   "file_extension": ".py",
   "mimetype": "text/x-python",
   "name": "python",
   "nbconvert_exporter": "python",
   "pygments_lexer": "ipython3",
   "version": "3.11.3"
  }
 },
 "nbformat": 4,
 "nbformat_minor": 2
}
