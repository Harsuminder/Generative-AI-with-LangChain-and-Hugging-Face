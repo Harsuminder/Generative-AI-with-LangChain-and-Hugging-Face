{
 "cells": [
  {
   "cell_type": "markdown",
   "metadata": {},
   "source": [
    "## **Stemming in NLP**\n",
    "Stemming is a text normalization technique that reduces words to their root form by **removing suffixes**. It is commonly used in **text processing, search engines, and NLP applications**.\n",
    "\n",
    "### **Examples:**\n",
    "- `writing` → `writ`\n",
    "- `happily` → `happili`\n",
    "- `running` → `run`"
   ]
  },
  {
   "cell_type": "code",
   "execution_count": 8,
   "metadata": {},
   "outputs": [],
   "source": [
    "words = [\n",
    "    \"writing\", \"writes\", \"written\", \"writer\", \"wrote\", \"rewrite\", \"rewriting\", \"rewritten\",\n",
    "    \"running\", \"runs\", \"ran\", \"runner\", \"runners\",\n",
    "    \"studying\", \"studies\", \"studied\", \"student\", \"students\",\n",
    "    \"playing\", \"plays\", \"played\", \"player\", \"players\",\n",
    "    \"singing\", \"sings\", \"sang\", \"singer\", \"singers\"]\n"
   ]
  },
  {
   "cell_type": "markdown",
   "metadata": {},
   "source": [
    "### PorterStemmer"
   ]
  },
  {
   "cell_type": "code",
   "execution_count": 9,
   "metadata": {},
   "outputs": [],
   "source": [
    "from nltk.stem import PorterStemmer"
   ]
  },
  {
   "cell_type": "code",
   "execution_count": 10,
   "metadata": {},
   "outputs": [],
   "source": [
    "stemming= PorterStemmer()"
   ]
  },
  {
   "cell_type": "code",
   "execution_count": 11,
   "metadata": {},
   "outputs": [
    {
     "name": "stdout",
     "output_type": "stream",
     "text": [
      "writing-->write\n",
      "writes-->write\n",
      "written-->written\n",
      "writer-->writer\n",
      "wrote-->wrote\n",
      "rewrite-->rewrit\n",
      "rewriting-->rewrit\n",
      "rewritten-->rewritten\n",
      "running-->run\n",
      "runs-->run\n",
      "ran-->ran\n",
      "runner-->runner\n",
      "runners-->runner\n",
      "studying-->studi\n",
      "studies-->studi\n",
      "studied-->studi\n",
      "student-->student\n",
      "students-->student\n",
      "playing-->play\n",
      "plays-->play\n",
      "played-->play\n",
      "player-->player\n",
      "players-->player\n",
      "singing-->sing\n",
      "sings-->sing\n",
      "sang-->sang\n",
      "singer-->singer\n",
      "singers-->singer\n"
     ]
    }
   ],
   "source": [
    "for word in words:\n",
    "    print(word+ \"-->\"+stemming.stem(word))"
   ]
  },
  {
   "cell_type": "code",
   "execution_count": 12,
   "metadata": {},
   "outputs": [
    {
     "data": {
      "text/plain": [
       "'congratul'"
      ]
     },
     "execution_count": 12,
     "metadata": {},
     "output_type": "execute_result"
    }
   ],
   "source": [
    "stemming.stem('congratulations')"
   ]
  },
  {
   "cell_type": "code",
   "execution_count": 13,
   "metadata": {},
   "outputs": [
    {
     "data": {
      "text/plain": [
       "'histori'"
      ]
     },
     "execution_count": 13,
     "metadata": {},
     "output_type": "execute_result"
    }
   ],
   "source": [
    "stemming.stem('history')"
   ]
  },
  {
   "cell_type": "markdown",
   "metadata": {},
   "source": [
    "### **RegexpStemmer Definition**\n",
    "`RegexpStemmer` is a rule-based stemming technique in **NLTK** that removes or replaces parts of words using **regular expressions**. It is useful for customizing stemming rules when other stemmers are too aggressive or not precise.\n",
    "\n",
    "**Example:** Removing common suffixes like `ing`, `ly`, `ed`, `es`, `s`.\n"
   ]
  },
  {
   "cell_type": "code",
   "execution_count": 14,
   "metadata": {},
   "outputs": [],
   "source": [
    "from nltk.stem import RegexpStemmer"
   ]
  },
  {
   "cell_type": "code",
   "execution_count": null,
   "metadata": {},
   "outputs": [],
   "source": []
  },
  {
   "cell_type": "markdown",
   "metadata": {},
   "source": []
  }
 ],
 "metadata": {
  "kernelspec": {
   "display_name": "Python 3",
   "language": "python",
   "name": "python3"
  },
  "language_info": {
   "codemirror_mode": {
    "name": "ipython",
    "version": 3
   },
   "file_extension": ".py",
   "mimetype": "text/x-python",
   "name": "python",
   "nbconvert_exporter": "python",
   "pygments_lexer": "ipython3",
   "version": "3.11.3"
  }
 },
 "nbformat": 4,
 "nbformat_minor": 2
}
