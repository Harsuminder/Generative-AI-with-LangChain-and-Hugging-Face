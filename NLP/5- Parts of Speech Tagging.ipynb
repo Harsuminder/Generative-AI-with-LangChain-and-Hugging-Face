{
 "cells": [
  {
   "cell_type": "markdown",
   "metadata": {},
   "source": [
    "## Parts of Speech (POS) Tagging\n",
    "\n",
    "Parts of Speech (POS) tagging is the process of **labeling each word** in a sentence with its **grammatical role**, such as noun, verb, adjective, etc. It helps in understanding the structure and meaning of a sentence.\n",
    "\n",
    "### Common POS Tags\n",
    "| Tag | Meaning         | Example           |\n",
    "|-----|------------------|-------------------|\n",
    "| NN  | Noun             | cat, car, London  |\n",
    "| VB  | Verb (base form) | run, eat, go      |\n",
    "| JJ  | Adjective        | big, red, fast    |\n",
    "| RB  | Adverb           | quickly, silently |\n",
    "| PRP | Pronoun          | he, she, it       |\n",
    "| IN  | Preposition      | in, on, at         |\n",
    "| DT  | Determiner       | the, a, an        |\n",
    "\n",
    "### Why is POS Tagging Important?\n",
    "- Helps in **syntactic parsing**\n",
    "- Useful for **named entity recognition**\n",
    "- Aids in **text summarization, sentiment analysis, and question answering**\n",
    "\n",
    "### Example: Finding POS Tag of a Paragraph"
   ]
  },
  {
   "cell_type": "code",
   "execution_count": 1,
   "metadata": {},
   "outputs": [],
   "source": [
    "paragraph= \"\"\"The quick brown fox jumps over the lazy dog. It was a bright and sunny day, but she didn't feel like going outside. He couldn't understand why the weather affected his mood so much. However, he decided not to let it bother him and continued reading his favorite book.\"\"\""
   ]
  },
  {
   "cell_type": "code",
   "execution_count": 5,
   "metadata": {},
   "outputs": [
    {
     "data": {
      "text/plain": [
       "['The quick brown fox jumps over the lazy dog.',\n",
       " \"It was a bright and sunny day, but she didn't feel like going outside.\",\n",
       " \"He couldn't understand why the weather affected his mood so much.\",\n",
       " 'However, he decided not to let it bother him and continued reading his favorite book.']"
      ]
     },
     "execution_count": 5,
     "metadata": {},
     "output_type": "execute_result"
    }
   ],
   "source": [
    "import nltk\n",
    "from nltk.corpus import stopwords\n",
    "sentences= nltk.sent_tokenize(paragraph)\n",
    "sentences"
   ]
  },
  {
   "cell_type": "code",
   "execution_count": 7,
   "metadata": {},
   "outputs": [
    {
     "name": "stdout",
     "output_type": "stream",
     "text": [
      "[('The', 'DT'), ('quick', 'JJ'), ('brown', 'NN'), ('fox', 'NN'), ('jumps', 'NNS'), ('lazy', 'JJ'), ('dog', 'NN'), ('.', '.')]\n",
      "[('It', 'PRP'), ('bright', 'VBD'), ('sunny', 'JJ'), ('day', 'NN'), (',', ','), (\"n't\", 'RB'), ('feel', 'VB'), ('like', 'IN'), ('going', 'VBG'), ('outside', 'JJ'), ('.', '.')]\n",
      "[('He', 'PRP'), ('could', 'MD'), (\"n't\", 'RB'), ('understand', 'VB'), ('weather', 'RB'), ('affected', 'JJ'), ('mood', 'NN'), ('much', 'RB'), ('.', '.')]\n",
      "[('However', 'RB'), (',', ','), ('decided', 'VBD'), ('let', 'NN'), ('bother', 'PRP'), ('continued', 'VBD'), ('reading', 'VBG'), ('favorite', 'JJ'), ('book', 'NN'), ('.', '.')]\n"
     ]
    }
   ],
   "source": [
    "# Iterate over each sentence in the list\n",
    "for i in range(len(sentences)):\n",
    "\n",
    "    # Tokenize the sentence into words\n",
    "    words=nltk.word_tokenize(sentences[i])\n",
    "\n",
    "    #  Removing stop words\n",
    "    words=[word for word in words if word not in set(stopwords.words('english'))]\n",
    "\n",
    "    # Finding POS Tag\n",
    "    pos_tag= nltk.pos_tag(words)\n",
    "    print(pos_tag)\n"
   ]
  },
  {
   "cell_type": "code",
   "execution_count": null,
   "metadata": {},
   "outputs": [],
   "source": []
  }
 ],
 "metadata": {
  "kernelspec": {
   "display_name": "Python 3",
   "language": "python",
   "name": "python3"
  },
  "language_info": {
   "codemirror_mode": {
    "name": "ipython",
    "version": 3
   },
   "file_extension": ".py",
   "mimetype": "text/x-python",
   "name": "python",
   "nbconvert_exporter": "python",
   "pygments_lexer": "ipython3",
   "version": "3.11.3"
  }
 },
 "nbformat": 4,
 "nbformat_minor": 2
}
