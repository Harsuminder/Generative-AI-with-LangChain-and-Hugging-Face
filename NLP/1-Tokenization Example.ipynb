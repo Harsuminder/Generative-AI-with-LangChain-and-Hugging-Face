{
 "cells": [
  {
   "cell_type": "code",
   "execution_count": 5,
   "metadata": {},
   "outputs": [],
   "source": [
    "import nltk\n",
    "#nltk.download('all')\n",
    "from nltk.tokenize import sent_tokenize"
   ]
  },
  {
   "cell_type": "code",
   "execution_count": 19,
   "metadata": {},
   "outputs": [],
   "source": [
    "corpus=\"\"\" Hello! I'm testing tokenization. Let's see how it works.\n",
    "NLTK's tokenizer is quite powerful—it's useful for NLP tasks.\n",
    "Python 3.9 is great, isn't it? What about e-mail addresses like test@example.com?\n",
    "Hey... check this out: $50, 100%, and U.S.A. are tricky cases. \"\"\""
   ]
  },
  {
   "cell_type": "code",
   "execution_count": 20,
   "metadata": {},
   "outputs": [
    {
     "name": "stdout",
     "output_type": "stream",
     "text": [
      " Hello! I'm testing tokenization. Let's see how it works.\n",
      "NLTK's tokenizer is quite powerful—it's useful for NLP tasks.\n",
      "Python 3.9 is great, isn't it? What about e-mail addresses like test@example.com?\n",
      "Hey... check this out: $50, 100%, and U.S.A. are tricky cases. \n"
     ]
    }
   ],
   "source": [
    "print(corpus)"
   ]
  },
  {
   "cell_type": "markdown",
   "metadata": {},
   "source": [
    "# Tokenization \n",
    "## Sentence from Paragraph"
   ]
  },
  {
   "cell_type": "code",
   "execution_count": 21,
   "metadata": {},
   "outputs": [
    {
     "data": {
      "text/plain": [
       "[' Hello!',\n",
       " \"I'm testing tokenization.\",\n",
       " \"Let's see how it works.\",\n",
       " \"NLTK's tokenizer is quite powerful—it's useful for NLP tasks.\",\n",
       " \"Python 3.9 is great, isn't it?\",\n",
       " 'What about e-mail addresses like test@example.com?',\n",
       " 'Hey... check this out: $50, 100%, and U.S.A. are tricky cases.']"
      ]
     },
     "execution_count": 21,
     "metadata": {},
     "output_type": "execute_result"
    }
   ],
   "source": [
    "documents=sent_tokenize(corpus)\n",
    "documents"
   ]
  },
  {
   "cell_type": "code",
   "execution_count": 22,
   "metadata": {},
   "outputs": [
    {
     "data": {
      "text/plain": [
       "list"
      ]
     },
     "execution_count": 22,
     "metadata": {},
     "output_type": "execute_result"
    }
   ],
   "source": [
    "type(documents)"
   ]
  },
  {
   "cell_type": "code",
   "execution_count": 23,
   "metadata": {},
   "outputs": [
    {
     "name": "stdout",
     "output_type": "stream",
     "text": [
      " Hello!\n",
      "I'm testing tokenization.\n",
      "Let's see how it works.\n",
      "NLTK's tokenizer is quite powerful—it's useful for NLP tasks.\n",
      "Python 3.9 is great, isn't it?\n",
      "What about e-mail addresses like test@example.com?\n",
      "Hey... check this out: $50, 100%, and U.S.A. are tricky cases.\n"
     ]
    }
   ],
   "source": [
    "for sentences in documents:\n",
    "    print(sentences)"
   ]
  },
  {
   "cell_type": "markdown",
   "metadata": {},
   "source": [
    "## Paragraph -->words"
   ]
  },
  {
   "cell_type": "code",
   "execution_count": null,
   "metadata": {},
   "outputs": [],
   "source": [
    "from nltk.tokenize import word_tokenize #Splits text into words, handling punctuation, contractions, and special cases intelligently."
   ]
  },
  {
   "cell_type": "code",
   "execution_count": 25,
   "metadata": {},
   "outputs": [
    {
     "data": {
      "text/plain": [
       "['Hello',\n",
       " '!',\n",
       " 'I',\n",
       " \"'m\",\n",
       " 'testing',\n",
       " 'tokenization',\n",
       " '.',\n",
       " 'Let',\n",
       " \"'s\",\n",
       " 'see',\n",
       " 'how',\n",
       " 'it',\n",
       " 'works',\n",
       " '.',\n",
       " 'NLTK',\n",
       " \"'s\",\n",
       " 'tokenizer',\n",
       " 'is',\n",
       " 'quite',\n",
       " 'powerful—it',\n",
       " \"'s\",\n",
       " 'useful',\n",
       " 'for',\n",
       " 'NLP',\n",
       " 'tasks',\n",
       " '.',\n",
       " 'Python',\n",
       " '3.9',\n",
       " 'is',\n",
       " 'great',\n",
       " ',',\n",
       " 'is',\n",
       " \"n't\",\n",
       " 'it',\n",
       " '?',\n",
       " 'What',\n",
       " 'about',\n",
       " 'e-mail',\n",
       " 'addresses',\n",
       " 'like',\n",
       " 'test',\n",
       " '@',\n",
       " 'example.com',\n",
       " '?',\n",
       " 'Hey',\n",
       " '...',\n",
       " 'check',\n",
       " 'this',\n",
       " 'out',\n",
       " ':',\n",
       " '$',\n",
       " '50',\n",
       " ',',\n",
       " '100',\n",
       " '%',\n",
       " ',',\n",
       " 'and',\n",
       " 'U.S.A.',\n",
       " 'are',\n",
       " 'tricky',\n",
       " 'cases',\n",
       " '.']"
      ]
     },
     "execution_count": 25,
     "metadata": {},
     "output_type": "execute_result"
    }
   ],
   "source": [
    "word_tokenize(corpus)"
   ]
  },
  {
   "cell_type": "code",
   "execution_count": 26,
   "metadata": {},
   "outputs": [
    {
     "name": "stdout",
     "output_type": "stream",
     "text": [
      "['Hello', '!']\n",
      "['I', \"'m\", 'testing', 'tokenization', '.']\n",
      "['Let', \"'s\", 'see', 'how', 'it', 'works', '.']\n",
      "['NLTK', \"'s\", 'tokenizer', 'is', 'quite', 'powerful—it', \"'s\", 'useful', 'for', 'NLP', 'tasks', '.']\n",
      "['Python', '3.9', 'is', 'great', ',', 'is', \"n't\", 'it', '?']\n",
      "['What', 'about', 'e-mail', 'addresses', 'like', 'test', '@', 'example.com', '?']\n",
      "['Hey', '...', 'check', 'this', 'out', ':', '$', '50', ',', '100', '%', ',', 'and', 'U.S.A.', 'are', 'tricky', 'cases', '.']\n"
     ]
    }
   ],
   "source": [
    "for words in documents:\n",
    "    print(word_tokenize(words))"
   ]
  },
  {
   "cell_type": "code",
   "execution_count": null,
   "metadata": {},
   "outputs": [],
   "source": [
    "from nltk.tokenize import wordpunct_tokenize # split words based on punctuation, Splits text whenever it sees a non-alphanumeric character."
   ]
  },
  {
   "cell_type": "code",
   "execution_count": 28,
   "metadata": {},
   "outputs": [
    {
     "data": {
      "text/plain": [
       "['Hello',\n",
       " '!',\n",
       " 'I',\n",
       " \"'\",\n",
       " 'm',\n",
       " 'testing',\n",
       " 'tokenization',\n",
       " '.',\n",
       " 'Let',\n",
       " \"'\",\n",
       " 's',\n",
       " 'see',\n",
       " 'how',\n",
       " 'it',\n",
       " 'works',\n",
       " '.',\n",
       " 'NLTK',\n",
       " \"'\",\n",
       " 's',\n",
       " 'tokenizer',\n",
       " 'is',\n",
       " 'quite',\n",
       " 'powerful',\n",
       " '—',\n",
       " 'it',\n",
       " \"'\",\n",
       " 's',\n",
       " 'useful',\n",
       " 'for',\n",
       " 'NLP',\n",
       " 'tasks',\n",
       " '.',\n",
       " 'Python',\n",
       " '3',\n",
       " '.',\n",
       " '9',\n",
       " 'is',\n",
       " 'great',\n",
       " ',',\n",
       " 'isn',\n",
       " \"'\",\n",
       " 't',\n",
       " 'it',\n",
       " '?',\n",
       " 'What',\n",
       " 'about',\n",
       " 'e',\n",
       " '-',\n",
       " 'mail',\n",
       " 'addresses',\n",
       " 'like',\n",
       " 'test',\n",
       " '@',\n",
       " 'example',\n",
       " '.',\n",
       " 'com',\n",
       " '?',\n",
       " 'Hey',\n",
       " '...',\n",
       " 'check',\n",
       " 'this',\n",
       " 'out',\n",
       " ':',\n",
       " '$',\n",
       " '50',\n",
       " ',',\n",
       " '100',\n",
       " '%,',\n",
       " 'and',\n",
       " 'U',\n",
       " '.',\n",
       " 'S',\n",
       " '.',\n",
       " 'A',\n",
       " '.',\n",
       " 'are',\n",
       " 'tricky',\n",
       " 'cases',\n",
       " '.']"
      ]
     },
     "execution_count": 28,
     "metadata": {},
     "output_type": "execute_result"
    }
   ],
   "source": [
    "wordpunct_tokenize(corpus)"
   ]
  },
  {
   "cell_type": "code",
   "execution_count": 32,
   "metadata": {},
   "outputs": [],
   "source": [
    "from nltk.tokenize import TreebankWordDetokenizer #The TreebankWordDetokenizer in NLTK is used to reconstruct sentences from tokenized words while ensuring proper spacing and punctuation."
   ]
  },
  {
   "cell_type": "code",
   "execution_count": 34,
   "metadata": {},
   "outputs": [],
   "source": [
    "tokenizer= TreebankWordDetokenizer()"
   ]
  },
  {
   "cell_type": "code",
   "execution_count": 41,
   "metadata": {},
   "outputs": [
    {
     "data": {
      "text/plain": [
       "['Hello',\n",
       " '!',\n",
       " 'I',\n",
       " \"'m\",\n",
       " 'testing',\n",
       " 'tokenization',\n",
       " '.',\n",
       " 'Let',\n",
       " \"'s\",\n",
       " 'see',\n",
       " 'how',\n",
       " 'it',\n",
       " 'works',\n",
       " '.',\n",
       " 'NLTK',\n",
       " \"'s\",\n",
       " 'tokenizer',\n",
       " 'is',\n",
       " 'quite',\n",
       " 'powerful—it',\n",
       " \"'s\",\n",
       " 'useful',\n",
       " 'for',\n",
       " 'NLP',\n",
       " 'tasks',\n",
       " '.',\n",
       " 'Python',\n",
       " '3.9',\n",
       " 'is',\n",
       " 'great',\n",
       " ',',\n",
       " 'is',\n",
       " \"n't\",\n",
       " 'it',\n",
       " '?',\n",
       " 'What',\n",
       " 'about',\n",
       " 'e-mail',\n",
       " 'addresses',\n",
       " 'like',\n",
       " 'test',\n",
       " '@',\n",
       " 'example.com',\n",
       " '?',\n",
       " 'Hey',\n",
       " '...',\n",
       " 'check',\n",
       " 'this',\n",
       " 'out',\n",
       " ':',\n",
       " '$',\n",
       " '50',\n",
       " ',',\n",
       " '100',\n",
       " '%',\n",
       " ',',\n",
       " 'and',\n",
       " 'U.S.A.',\n",
       " 'are',\n",
       " 'tricky',\n",
       " 'cases',\n",
       " '.']"
      ]
     },
     "execution_count": 41,
     "metadata": {},
     "output_type": "execute_result"
    }
   ],
   "source": [
    "token= word_tokenize(corpus)\n",
    "token"
   ]
  },
  {
   "cell_type": "code",
   "execution_count": 42,
   "metadata": {},
   "outputs": [
    {
     "data": {
      "text/plain": [
       "\"Hello! I'm testing tokenization . Let's see how it works . NLTK's tokenizer is quite powerful—it's useful for NLP tasks . Python 3.9 is great, isn't it? What about e-mail addresses like test @ example.com? Hey...check this out: $50, 100%, and U.S.A. are tricky cases.\""
      ]
     },
     "execution_count": 42,
     "metadata": {},
     "output_type": "execute_result"
    }
   ],
   "source": [
    "detokenized_text = tokenizer.detokenize(token)\n",
    "detokenized_text"
   ]
  },
  {
   "cell_type": "code",
   "execution_count": null,
   "metadata": {},
   "outputs": [],
   "source": []
  }
 ],
 "metadata": {
  "kernelspec": {
   "display_name": "Python 3",
   "language": "python",
   "name": "python3"
  },
  "language_info": {
   "codemirror_mode": {
    "name": "ipython",
    "version": 3
   },
   "file_extension": ".py",
   "mimetype": "text/x-python",
   "name": "python",
   "nbconvert_exporter": "python",
   "pygments_lexer": "ipython3",
   "version": "3.11.3"
  }
 },
 "nbformat": 4,
 "nbformat_minor": 2
}
