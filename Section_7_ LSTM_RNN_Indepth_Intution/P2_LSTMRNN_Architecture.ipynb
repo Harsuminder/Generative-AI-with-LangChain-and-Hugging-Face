{
 "cells": [
  {
   "cell_type": "markdown",
   "id": "ad7ff5f9",
   "metadata": {},
   "source": [
    "## 🧠 Understanding LSTM RNN Architecture\n",
    "\n",
    "Long Short-Term Memory Recurrent Neural Networks (**LSTM RNNs**) are a special kind of RNN capable of learning long-term dependencies. While standard RNNs only have a **hidden state** (short-term memory), LSTM RNNs add a **cell state** to preserve **long-term memory** across time steps.\n",
    "\n",
    "---\n",
    "\n",
    "### 🔁 Memory Components in LSTM RNN\n",
    "\n",
    "- **`ht-1`** → **Short-Term Memory** (hidden state from previous time step)\n",
    "- **`Ct-1`** → **Long-Term Memory** (cell state from previous time step)\n",
    "- **`Ct`** → Updated cell state after **forgetting** some old information and **adding** some new\n",
    "- **`ht`** → New hidden state (short-term memory output of current step)\n"
   ]
  },
  {
   "cell_type": "markdown",
   "id": "54df5741",
   "metadata": {},
   "source": [
    "### 🧱 3 Key Gates in LSTM RNN\n",
    "\n",
    "LSTM RNNs use **three gates** to regulate the information flow:\n",
    "\n",
    "1. **Forget Gate (`ft`)**\n",
    "\n",
    "2. **Input Gate (`it`)**\n",
    "\n",
    "3. **Output Gate (`ot`)**\n",
    "\n",
    "---"
   ]
  },
  {
   "cell_type": "markdown",
   "id": "4733c069",
   "metadata": {},
   "source": [
    "### 📐 Shapes and Symbols in LSTM RNN Diagrams\n",
    "\n",
    "Understanding visual symbols helps decode the LSTM architecture diagrams:\n",
    "\n",
    "- 🟦 **Rectangle**: A layer with learnable weights (e.g., Dense, RNN Cell, Tanh)\n",
    "- 🔘 **Circle with symbol (×, +, etc.)**: **Pointwise operations**\n",
    "  - `×` : Element-wise multiplication (gate × memory)\n",
    "  - `+` : Element-wise addition (merge old and new memory)\n",
    "- ➕ **Circle without label**: Generic operation (e.g., add two vectors)\n",
    "- 🔁 **Loop arrow**: Represents time-step recurrence (`ht-1` feeding into next `ht`)\n",
    "- 🔗 **Horizontal arrows**: Flow of data at current time step\n",
    "- 🧷 **Lines that split and go to multiple places**: **Copying vectors**\n",
    "- ⊕ **Horizontal bar**: **Concatenation** of inputs, e.g., `[ht-1, Xt]`"
   ]
  }
 ],
 "metadata": {
  "language_info": {
   "name": "python"
  }
 },
 "nbformat": 4,
 "nbformat_minor": 5
}
