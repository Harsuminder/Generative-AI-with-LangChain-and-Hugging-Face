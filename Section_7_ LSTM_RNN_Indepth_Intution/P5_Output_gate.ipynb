{
 "cells": [
  {
   "cell_type": "markdown",
   "id": "b709d911",
   "metadata": {},
   "source": [
    "## 🚪 Output Gate in LSTM RNN\n",
    "\n",
    "---\n",
    "\n",
    "### 🎯 Purpose of the Output Gate\n",
    "\n",
    "The **Output Gate** decides **what part of the updated memory (`Cₜ`) should be revealed** to the next time step or layer as the hidden state (`hₜ`), which also serves as the **short-term memory** of the LSTM RNN.\n",
    "\n",
    "It acts as a filter — taking the current input `xₜ`, the previous hidden state `hₜ₋₁`, and the **updated cell state `Cₜ`**, and decides how much of this processed memory should become the visible output.\n",
    "\n",
    "---\n",
    "\n",
    "### 🔁 How It Works – Step by Step\n",
    "\n",
    "1. **Input**: The gate takes in:\n",
    "   - `xₜ`: Current input\n",
    "   - `hₜ₋₁`: Previous hidden state\n",
    "\n",
    "2. **Compute Output Gate Values**:  \n",
    "   - These inputs are passed through a dense layer + sigmoid activation, producing values between **0 and 1**.\n",
    "   - These values control **how much of each element of the memory should be output**.\n",
    "\n",
    "3. **Transform Cell State**:  \n",
    "   - The updated cell state `Cₜ` is passed through a **tanh** activation to scale it to [-1, 1].\n",
    "\n",
    "4. **Final Output**:  \n",
    "   - Multiply the **tanh-activated memory** with the **output gate values**.\n",
    "   - The result is `hₜ` — the hidden state (short-term memory) passed to the next time step.\n",
    "\n",
    "---\n",
    "\n",
    "### 🧪 Example with Numbers\n",
    "\n",
    "Let’s say:\n",
    "\n",
    "- Updated cell state `Cₜ = [0.6, -0.9, 0.3]`\n",
    "- Output gate (after sigmoid) gives: `oₜ = [0.7, 0.1, 0.9]`\n",
    "- `tanh(Cₜ) = [tanh(0.6), tanh(-0.9), tanh(0.3)] ≈ [0.537, -0.716, 0.291]`\n",
    "\n",
    "Then:\n",
    "\n",
    "```text\n",
    "Final hidden state (hₜ) = oₜ × tanh(Cₜ)\n",
    "                        ≈ [0.7 × 0.537, 0.1 × -0.716, 0.9 × 0.291]\n",
    "                        ≈ [0.376, -0.072, 0.262]\n"
   ]
  },
  {
   "cell_type": "markdown",
   "id": "d7220273",
   "metadata": {},
   "source": [
    "---\n",
    "\n",
    "### ✅ So the LSTM Decides:\n",
    "\n",
    "- To **expose most** of the first memory element → `0.376`\n",
    "- To **reveal very little** of the second memory element → `-0.072`\n",
    "- To **retain a lot** of the third memory element → `0.262`\n",
    "\n",
    "---\n",
    "\n",
    "### 🧠 Summary\n",
    "\n",
    "The **Output Gate** allows the **LSTM RNN** to **control how much memory is \"shown\"** to the outside world.\n",
    "\n",
    "It acts as a **final filter**, determining the content of the hidden state `hₜ`, which influences:\n",
    "- The **next time step** in the sequence, and\n",
    "- Any **downstream predictions or tasks** like classification or translation.\n",
    "\n",
    "---\n"
   ]
  },
  {
   "cell_type": "markdown",
   "id": "06210bcc",
   "metadata": {},
   "source": []
  },
  {
   "cell_type": "markdown",
   "id": "bf5f731f",
   "metadata": {},
   "source": []
  }
 ],
 "metadata": {
  "language_info": {
   "name": "python"
  }
 },
 "nbformat": 4,
 "nbformat_minor": 5
}
