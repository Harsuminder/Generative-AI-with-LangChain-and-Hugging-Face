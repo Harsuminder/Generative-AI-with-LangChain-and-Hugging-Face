{
 "cells": [
  {
   "cell_type": "markdown",
   "metadata": {},
   "source": [
    "## 🔍 What is TF-IDF?\n",
    "\n",
    "**TF-IDF** stands for **Term Frequency–Inverse Document Frequency**. It is a statistical measure used to evaluate how important a word is to a document in a collection (corpus).\n",
    "\n",
    "It combines two ideas:\n",
    "- **TF (Term Frequency):** How often a word appears in a document.\n",
    "- **IDF (Inverse Document Frequency):** How rare that word is across all documents.\n",
    "\n",
    "### 💡 Why use TF-IDF?\n",
    "While Bag of Words (BoW) treats all words equally, **TF-IDF gives more weight to rare and meaningful words**, and reduces the impact of common words that appear in many documents.\n",
    "\n",
    "It is widely used in:\n",
    "- Document classification\n",
    "- Information retrieval (e.g., search engines)\n",
    "- Text similarity and clustering\n"
   ]
  },
  {
   "cell_type": "markdown",
   "metadata": {},
   "source": []
  }
 ],
 "metadata": {
  "language_info": {
   "name": "python"
  }
 },
 "nbformat": 4,
 "nbformat_minor": 2
}
