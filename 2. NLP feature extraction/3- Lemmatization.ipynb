{
 "cells": [
  {
   "cell_type": "markdown",
   "metadata": {},
   "source": [
    "# **WordNet Lemmatizer in NLP**\n",
    "\n",
    "## **What is WordNet Lemmatizer?**\n",
    "`WordNetLemmatizer` (from NLTK) reduces words to their **base or dictionary form (root word)** using **linguistic rules**, unlike stemming, which simply removes suffixes.\n",
    "\n",
    "## **Word Stem vs. Root Word**\n",
    "- **Word Stem (Stemming Result)**: A truncated version of a word after removing suffixes (may not be a real word).\n",
    "  - Example: `\"studies\"` → `\"studi\"` ❌ (not a valid word).\n",
    "- **Root Word (Lemmatization Result)**: The actual **dictionary word** (lemma).\n",
    "  - Example: `\"studies\"` → `\"study\"` ✅ (valid word).\n",
    "\n",
    "## **How Lemmatization Works**\n",
    "- **Uses WordNet dictionary** to find correct root words.\n",
    "- **Considers part of speech (POS)** (`'v'` for verbs, `'n'` for nouns, etc.).\n",
    "- **More accurate than stemming**, producing valid words.\n",
    "\n",
    "## **Example Comparison**\n",
    "| Word    | Stemming (Porter) | Root Word (Lemma) |\n",
    "|---------|------------------|-------------------|\n",
    "| Running | run             | run               |\n",
    "| Studies | studi           | study             |\n",
    "| Better  | better          | good              |\n",
    "| Caring  | care            | care              |\n",
    "\n",
    "## **Why Use It?**\n",
    "✔ **Produces real words instead of chopped forms.**  \n",
    "✔ **Considers word meaning and POS.**  \n",
    "✔ **Better for NLP tasks like chatbots, search engines, and text analysis.**  \n",
    "\n",
    "## **Limitations**\n",
    "❌ **Slower than stemming** (requires dictionary lookup).  \n",
    "❌ **POS tagging is needed for best accuracy.**  \n",
    "\n",
    "**Use `WordNetLemmatizer` when you need correct root words instead of just truncating text!** 🚀\n"
   ]
  },
  {
   "cell_type": "markdown",
   "metadata": {},
   "source": [
    "## **WordNetLemmatizer class**\n",
    "`WordNetLemmatizer` is a class in **NLTK** that uses the **WordNet corpus** to find the **base (lemma) form** of words. It performs **lemmatization** by looking up words in **WordNet CorpusReader** using **morphy() function** rather than just removing suffixes like stemming."
   ]
  },
  {
   "cell_type": "code",
   "execution_count": 1,
   "metadata": {},
   "outputs": [],
   "source": [
    "from nltk.stem import WordNetLemmatizer"
   ]
  },
  {
   "cell_type": "code",
   "execution_count": 2,
   "metadata": {},
   "outputs": [],
   "source": [
    "words = [\n",
    "    \"writing\", \"writes\", \"written\", \"writer\", \"wrote\", \"rewrite\", \"rewriting\", \"rewritten\",\n",
    "    \"running\", \"runs\", \"ran\", \"runner\", \"runners\",\n",
    "    \"studying\", \"studies\", \"studied\", \"student\", \"students\",\n",
    "    \"playing\", \"plays\", \"played\", \"player\", \"players\",\n",
    "    \"singing\", \"sings\", \"sang\", \"singer\", \"singers\"]\n"
   ]
  },
  {
   "cell_type": "code",
   "execution_count": 4,
   "metadata": {},
   "outputs": [],
   "source": [
    "lemmatizer= WordNetLemmatizer()"
   ]
  },
  {
   "cell_type": "code",
   "execution_count": 6,
   "metadata": {},
   "outputs": [
    {
     "name": "stdout",
     "output_type": "stream",
     "text": [
      "writing-->write\n",
      "writes-->write\n",
      "written-->write\n",
      "writer-->writer\n",
      "wrote-->write\n",
      "rewrite-->rewrite\n",
      "rewriting-->rewrite\n",
      "rewritten-->rewrite\n",
      "running-->run\n",
      "runs-->run\n",
      "ran-->run\n",
      "runner-->runner\n",
      "runners-->runners\n",
      "studying-->study\n",
      "studies-->study\n",
      "studied-->study\n",
      "student-->student\n",
      "students-->students\n",
      "playing-->play\n",
      "plays-->play\n",
      "played-->play\n",
      "player-->player\n",
      "players-->players\n",
      "singing-->sing\n",
      "sings-->sing\n",
      "sang-->sing\n",
      "singer-->singer\n",
      "singers-->singers\n"
     ]
    }
   ],
   "source": [
    "for word in words:\n",
    "    print(word+ \"-->\"+lemmatizer.lemmatize(word, pos='v'))"
   ]
  },
  {
   "cell_type": "markdown",
   "metadata": {},
   "source": [
    "## **Parameters for `lemmatizer.lemmatize()`**\n",
    "- **`word`** → The word to be lemmatized.\n",
    "- **`pos`** *(optional)* → The **Part of Speech (POS)** (default: `'n'` for noun).\n",
    "\n",
    "### **POS Tag Options**\n",
    "| POS Tag | Description |\n",
    "|---------|------------|\n",
    "| `'n'`   | Noun       |\n",
    "| `'v'`   | Verb       |\n",
    "| `'a'`   | Adjective  |\n",
    "| `'r'`   | Adverb     |\n"
   ]
  },
  {
   "cell_type": "markdown",
   "metadata": {},
   "source": [
    "# **Use Cases of Lemmatization**\n",
    "\n",
    "- **Search Engines** – Improves search accuracy by normalizing word variations.  \n",
    "- **Chatbots & Virtual Assistants** – Helps understand different word forms.  \n",
    "- **Text Normalization** – Reduces vocabulary size for NLP tasks.  \n",
    "- **Sentiment Analysis** – Standardizes words for better emotion detection.  \n",
    "- **Machine Translation** – Enhances translation accuracy.  \n",
    "- **Named Entity Recognition (NER)** – Identifies entities by handling word variations.  \n",
    "- **Text Summarization** – Eliminates redundant words.  \n",
    "- **Plagiarism Detection** – Helps compare different word forms.  \n",
    "- **Speech Recognition** – Improves spoken language understanding.  \n",
    "- **Spell Checking & Grammar Correction** – Standardizes text for corrections.  \n",
    "\n",
    "✔ **Lemmatization ensures better accuracy in NLP by converting words to their root form.** 🚀\n"
   ]
  }
 ],
 "metadata": {
  "kernelspec": {
   "display_name": "Python 3",
   "language": "python",
   "name": "python3"
  },
  "language_info": {
   "codemirror_mode": {
    "name": "ipython",
    "version": 3
   },
   "file_extension": ".py",
   "mimetype": "text/x-python",
   "name": "python",
   "nbconvert_exporter": "python",
   "pygments_lexer": "ipython3",
   "version": "3.11.3"
  }
 },
 "nbformat": 4,
 "nbformat_minor": 2
}
