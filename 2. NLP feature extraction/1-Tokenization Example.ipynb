{
 "cells": [
  {
   "cell_type": "markdown",
   "metadata": {},
   "source": [
    "# **Tokenization in NLP**\n",
    "\n",
    "## **What is Tokenization?**\n",
    "Tokenization is the process of splitting text into **smaller meaningful units**, called **tokens**. These tokens can be **words**, **phrases**, or **sentences**. It is one of the fundamental steps in **Natural Language Processing (NLP)**.\n",
    "\n",
    "---\n",
    "\n",
    "## **Types of Tokenization**\n",
    "1. **Word Tokenization**  \n",
    "   - Splits text into individual words.  \n",
    "   - Example:  \n",
    "     **Text:** `\"Hello! How are you?\"`  \n",
    "     **Word Tokens:** `[\"Hello\", \"!\", \"How\", \"are\", \"you\", \"?\"]`\n",
    "\n",
    "2. **Sentence Tokenization**  \n",
    "   - Splits text into complete sentences.  \n",
    "   - Example:  \n",
    "     **Text:** `\"Hello! How are you? Have a great day.\"`  \n",
    "     **Sentence Tokens:** `[\"Hello!\", \"How are you?\", \"Have a great day.\"]`\n",
    "\n",
    "---\n",
    "\n",
    "## **Why is Tokenization Important?**\n",
    "✔ **Prepares text for further processing** (stopword removal, stemming, lemmatization).  \n",
    "✔ **Used in chatbots & AI assistants** to understand user queries.  \n",
    "✔ **Improves search engines** by indexing words efficiently.  \n",
    "✔ **Essential for text classification & sentiment analysis.**  \n",
    "\n",
    "---\n",
    "\n",
    "## **Challenges in Tokenization**\n",
    "❌ **Handling contractions** (e.g., `\"I'm\"` should be `\"I am\"`).  \n",
    "❌ **Recognizing multi-word expressions** (e.g., `\"New York\"` should be one token).  \n",
    "❌ **Language-specific rules** (tokenization varies across languages).  \n",
    "❌ **Dealing with punctuation** (e.g., `\"U.S.A.\"` vs `\"USA\"`).  \n",
    "\n",
    "---\n",
    "\n",
    "## **Libraries for Tokenization**\n",
    "- **NLTK** (Natural Language Toolkit) - Basic NLP tasks.  \n",
    "- **spaCy** - Faster and optimized for large-scale NLP.  \n",
    "- **Regex-based Tokenization** - Custom tokenization using patterns.  \n",
    "\n",
    "Tokenization is the **first step** in NLP, setting the foundation for text analysis, machine learning models, and AI applications.\n"
   ]
  },
  {
   "cell_type": "code",
   "execution_count": 1,
   "metadata": {},
   "outputs": [],
   "source": [
    "import nltk\n",
    "#nltk.download('all')\n",
    "from nltk.tokenize import sent_tokenize"
   ]
  },
  {
   "cell_type": "code",
   "execution_count": 2,
   "metadata": {},
   "outputs": [],
   "source": [
    "corpus=\"\"\" Hello! I'm testing tokenization. Let's see how it works.\n",
    "NLTK's tokenizer is quite powerful—it's useful for NLP tasks.\n",
    "Python 3.9 is great, isn't it? What about e-mail addresses like test@example.com?\n",
    "Hey... check this out: $50, 100%, and U.S.A. are tricky cases. \"\"\""
   ]
  },
  {
   "cell_type": "code",
   "execution_count": 3,
   "metadata": {},
   "outputs": [
    {
     "name": "stdout",
     "output_type": "stream",
     "text": [
      " Hello! I'm testing tokenization. Let's see how it works.\n",
      "NLTK's tokenizer is quite powerful—it's useful for NLP tasks.\n",
      "Python 3.9 is great, isn't it? What about e-mail addresses like test@example.com?\n",
      "Hey... check this out: $50, 100%, and U.S.A. are tricky cases. \n"
     ]
    }
   ],
   "source": [
    "print(corpus)"
   ]
  },
  {
   "cell_type": "markdown",
   "metadata": {},
   "source": [
    "## Sentence Tokenization"
   ]
  },
  {
   "cell_type": "code",
   "execution_count": 4,
   "metadata": {},
   "outputs": [
    {
     "data": {
      "text/plain": [
       "[' Hello!',\n",
       " \"I'm testing tokenization.\",\n",
       " \"Let's see how it works.\",\n",
       " \"NLTK's tokenizer is quite powerful—it's useful for NLP tasks.\",\n",
       " \"Python 3.9 is great, isn't it?\",\n",
       " 'What about e-mail addresses like test@example.com?',\n",
       " 'Hey... check this out: $50, 100%, and U.S.A. are tricky cases.']"
      ]
     },
     "execution_count": 4,
     "metadata": {},
     "output_type": "execute_result"
    }
   ],
   "source": [
    "documents=sent_tokenize(corpus)\n",
    "documents"
   ]
  },
  {
   "cell_type": "code",
   "execution_count": 5,
   "metadata": {},
   "outputs": [
    {
     "data": {
      "text/plain": [
       "list"
      ]
     },
     "execution_count": 5,
     "metadata": {},
     "output_type": "execute_result"
    }
   ],
   "source": [
    "type(documents)"
   ]
  },
  {
   "cell_type": "code",
   "execution_count": 6,
   "metadata": {},
   "outputs": [
    {
     "name": "stdout",
     "output_type": "stream",
     "text": [
      " Hello!\n",
      "I'm testing tokenization.\n",
      "Let's see how it works.\n",
      "NLTK's tokenizer is quite powerful—it's useful for NLP tasks.\n",
      "Python 3.9 is great, isn't it?\n",
      "What about e-mail addresses like test@example.com?\n",
      "Hey... check this out: $50, 100%, and U.S.A. are tricky cases.\n"
     ]
    }
   ],
   "source": [
    "for sentences in documents:\n",
    "    print(sentences)"
   ]
  },
  {
   "cell_type": "markdown",
   "metadata": {},
   "source": [
    "## Word Tokenization"
   ]
  },
  {
   "cell_type": "code",
   "execution_count": 7,
   "metadata": {},
   "outputs": [],
   "source": [
    "from nltk.tokenize import word_tokenize #Splits text into words, handling punctuation, contractions, and special cases intelligently."
   ]
  },
  {
   "cell_type": "code",
   "execution_count": 8,
   "metadata": {},
   "outputs": [
    {
     "data": {
      "text/plain": [
       "['Hello',\n",
       " '!',\n",
       " 'I',\n",
       " \"'m\",\n",
       " 'testing',\n",
       " 'tokenization',\n",
       " '.',\n",
       " 'Let',\n",
       " \"'s\",\n",
       " 'see',\n",
       " 'how',\n",
       " 'it',\n",
       " 'works',\n",
       " '.',\n",
       " 'NLTK',\n",
       " \"'s\",\n",
       " 'tokenizer',\n",
       " 'is',\n",
       " 'quite',\n",
       " 'powerful—it',\n",
       " \"'s\",\n",
       " 'useful',\n",
       " 'for',\n",
       " 'NLP',\n",
       " 'tasks',\n",
       " '.',\n",
       " 'Python',\n",
       " '3.9',\n",
       " 'is',\n",
       " 'great',\n",
       " ',',\n",
       " 'is',\n",
       " \"n't\",\n",
       " 'it',\n",
       " '?',\n",
       " 'What',\n",
       " 'about',\n",
       " 'e-mail',\n",
       " 'addresses',\n",
       " 'like',\n",
       " 'test',\n",
       " '@',\n",
       " 'example.com',\n",
       " '?',\n",
       " 'Hey',\n",
       " '...',\n",
       " 'check',\n",
       " 'this',\n",
       " 'out',\n",
       " ':',\n",
       " '$',\n",
       " '50',\n",
       " ',',\n",
       " '100',\n",
       " '%',\n",
       " ',',\n",
       " 'and',\n",
       " 'U.S.A.',\n",
       " 'are',\n",
       " 'tricky',\n",
       " 'cases',\n",
       " '.']"
      ]
     },
     "execution_count": 8,
     "metadata": {},
     "output_type": "execute_result"
    }
   ],
   "source": [
    "word_tokenize(corpus)"
   ]
  },
  {
   "cell_type": "code",
   "execution_count": 9,
   "metadata": {},
   "outputs": [
    {
     "name": "stdout",
     "output_type": "stream",
     "text": [
      "['Hello', '!']\n",
      "['I', \"'m\", 'testing', 'tokenization', '.']\n",
      "['Let', \"'s\", 'see', 'how', 'it', 'works', '.']\n",
      "['NLTK', \"'s\", 'tokenizer', 'is', 'quite', 'powerful—it', \"'s\", 'useful', 'for', 'NLP', 'tasks', '.']\n",
      "['Python', '3.9', 'is', 'great', ',', 'is', \"n't\", 'it', '?']\n",
      "['What', 'about', 'e-mail', 'addresses', 'like', 'test', '@', 'example.com', '?']\n",
      "['Hey', '...', 'check', 'this', 'out', ':', '$', '50', ',', '100', '%', ',', 'and', 'U.S.A.', 'are', 'tricky', 'cases', '.']\n"
     ]
    }
   ],
   "source": [
    "for words in documents:\n",
    "    print(word_tokenize(words))"
   ]
  },
  {
   "cell_type": "markdown",
   "metadata": {},
   "source": [
    "## **WordPunct Tokenization in NLP**\n",
    "`wordpunct_tokenize` is a **tokenization method** from **NLTK** that splits text into words and **punctuation separately**. Unlike standard word tokenization, it treats punctuation as **separate tokens** instead of attaching it to words.\n",
    "\n",
    "## **Comparison with `word_tokenize`**\n",
    "| Feature                 | `word_tokenize`  | `wordpunct_tokenize`  |\n",
    "|-------------------------|-----------------|-----------------------|\n",
    "| **Handles punctuation** | Keeps it attached to words | Separates punctuation |\n",
    "| **Example: \"I'm fine.\"** | `[\"I'm\", \"fine\", \".\"]` | `[\"I\", \"'m\", \"fine\", \".\"]` |\n",
    "| **Better for contractions?** | ✅ Keeps contractions together | ❌ Splits contractions |\n",
    "\n",
    "\n"
   ]
  },
  {
   "cell_type": "code",
   "execution_count": 11,
   "metadata": {},
   "outputs": [],
   "source": [
    "from nltk.tokenize import wordpunct_tokenize "
   ]
  },
  {
   "cell_type": "code",
   "execution_count": 12,
   "metadata": {},
   "outputs": [
    {
     "data": {
      "text/plain": [
       "['Hello',\n",
       " '!',\n",
       " 'I',\n",
       " \"'\",\n",
       " 'm',\n",
       " 'testing',\n",
       " 'tokenization',\n",
       " '.',\n",
       " 'Let',\n",
       " \"'\",\n",
       " 's',\n",
       " 'see',\n",
       " 'how',\n",
       " 'it',\n",
       " 'works',\n",
       " '.',\n",
       " 'NLTK',\n",
       " \"'\",\n",
       " 's',\n",
       " 'tokenizer',\n",
       " 'is',\n",
       " 'quite',\n",
       " 'powerful',\n",
       " '—',\n",
       " 'it',\n",
       " \"'\",\n",
       " 's',\n",
       " 'useful',\n",
       " 'for',\n",
       " 'NLP',\n",
       " 'tasks',\n",
       " '.',\n",
       " 'Python',\n",
       " '3',\n",
       " '.',\n",
       " '9',\n",
       " 'is',\n",
       " 'great',\n",
       " ',',\n",
       " 'isn',\n",
       " \"'\",\n",
       " 't',\n",
       " 'it',\n",
       " '?',\n",
       " 'What',\n",
       " 'about',\n",
       " 'e',\n",
       " '-',\n",
       " 'mail',\n",
       " 'addresses',\n",
       " 'like',\n",
       " 'test',\n",
       " '@',\n",
       " 'example',\n",
       " '.',\n",
       " 'com',\n",
       " '?',\n",
       " 'Hey',\n",
       " '...',\n",
       " 'check',\n",
       " 'this',\n",
       " 'out',\n",
       " ':',\n",
       " '$',\n",
       " '50',\n",
       " ',',\n",
       " '100',\n",
       " '%,',\n",
       " 'and',\n",
       " 'U',\n",
       " '.',\n",
       " 'S',\n",
       " '.',\n",
       " 'A',\n",
       " '.',\n",
       " 'are',\n",
       " 'tricky',\n",
       " 'cases',\n",
       " '.']"
      ]
     },
     "execution_count": 12,
     "metadata": {},
     "output_type": "execute_result"
    }
   ],
   "source": [
    "wordpunct_tokenize(corpus)"
   ]
  },
  {
   "cell_type": "markdown",
   "metadata": {},
   "source": [
    "## **TreebankWordDetokenizer in NLP**\n",
    "\n",
    "`TreebankWordDetokenizer` (from NLTK) **reconstructs a sentence** from tokenized words while handling proper spacing and punctuation.\n",
    "\n",
    "## **How It Works**\n",
    "- **Fixes spacing and punctuation** (e.g., `[\"Hello\", \",\", \"world\", \"!\"]` → `\"Hello, world!\"`).\n",
    "- **Handles contractions correctly** (e.g., `[\"I\", \"'m\"]` → `\"I'm\"`)."
   ]
  },
  {
   "cell_type": "code",
   "execution_count": 14,
   "metadata": {},
   "outputs": [],
   "source": [
    "from nltk.tokenize import TreebankWordDetokenizer "
   ]
  },
  {
   "cell_type": "code",
   "execution_count": 15,
   "metadata": {},
   "outputs": [],
   "source": [
    "tokenizer= TreebankWordDetokenizer()"
   ]
  },
  {
   "cell_type": "code",
   "execution_count": 16,
   "metadata": {},
   "outputs": [
    {
     "data": {
      "text/plain": [
       "['Hello',\n",
       " '!',\n",
       " 'I',\n",
       " \"'m\",\n",
       " 'testing',\n",
       " 'tokenization',\n",
       " '.',\n",
       " 'Let',\n",
       " \"'s\",\n",
       " 'see',\n",
       " 'how',\n",
       " 'it',\n",
       " 'works',\n",
       " '.',\n",
       " 'NLTK',\n",
       " \"'s\",\n",
       " 'tokenizer',\n",
       " 'is',\n",
       " 'quite',\n",
       " 'powerful—it',\n",
       " \"'s\",\n",
       " 'useful',\n",
       " 'for',\n",
       " 'NLP',\n",
       " 'tasks',\n",
       " '.',\n",
       " 'Python',\n",
       " '3.9',\n",
       " 'is',\n",
       " 'great',\n",
       " ',',\n",
       " 'is',\n",
       " \"n't\",\n",
       " 'it',\n",
       " '?',\n",
       " 'What',\n",
       " 'about',\n",
       " 'e-mail',\n",
       " 'addresses',\n",
       " 'like',\n",
       " 'test',\n",
       " '@',\n",
       " 'example.com',\n",
       " '?',\n",
       " 'Hey',\n",
       " '...',\n",
       " 'check',\n",
       " 'this',\n",
       " 'out',\n",
       " ':',\n",
       " '$',\n",
       " '50',\n",
       " ',',\n",
       " '100',\n",
       " '%',\n",
       " ',',\n",
       " 'and',\n",
       " 'U.S.A.',\n",
       " 'are',\n",
       " 'tricky',\n",
       " 'cases',\n",
       " '.']"
      ]
     },
     "execution_count": 16,
     "metadata": {},
     "output_type": "execute_result"
    }
   ],
   "source": [
    "token= word_tokenize(corpus)\n",
    "token"
   ]
  },
  {
   "cell_type": "code",
   "execution_count": 17,
   "metadata": {},
   "outputs": [
    {
     "data": {
      "text/plain": [
       "\"Hello! I'm testing tokenization . Let's see how it works . NLTK's tokenizer is quite powerful—it's useful for NLP tasks . Python 3.9 is great, isn't it? What about e-mail addresses like test @ example.com? Hey...check this out: $50, 100%, and U.S.A. are tricky cases.\""
      ]
     },
     "execution_count": 17,
     "metadata": {},
     "output_type": "execute_result"
    }
   ],
   "source": [
    "detokenized_text = tokenizer.detokenize(token)\n",
    "detokenized_text"
   ]
  }
 ],
 "metadata": {
  "kernelspec": {
   "display_name": "Python 3",
   "language": "python",
   "name": "python3"
  },
  "language_info": {
   "codemirror_mode": {
    "name": "ipython",
    "version": 3
   },
   "file_extension": ".py",
   "mimetype": "text/x-python",
   "name": "python",
   "nbconvert_exporter": "python",
   "pygments_lexer": "ipython3",
   "version": "3.11.3"
  }
 },
 "nbformat": 4,
 "nbformat_minor": 2
}
