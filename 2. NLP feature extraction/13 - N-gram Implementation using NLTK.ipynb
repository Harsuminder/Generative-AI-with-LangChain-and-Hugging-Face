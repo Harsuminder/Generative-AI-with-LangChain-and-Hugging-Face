{
 "cells": [
  {
   "cell_type": "markdown",
   "metadata": {},
   "source": [
    "# N-Gram Implementation using NLTK\n",
    "\n",
    "This notebook demonstrates how to generate **unigrams**, **bigrams**, and **trigrams** using Python's `nltk` library.\n",
    "\n",
    "We'll tokenize text, then use `nltk.ngrams()` to extract n-gram sequences. This is useful for understanding local word context and co-occurrence patterns.\n"
   ]
  },
  {
   "cell_type": "code",
   "execution_count": 24,
   "metadata": {},
   "outputs": [],
   "source": [
    "# Import the pandas library for data manipulation and analysis, especially for working with DataFrames\n",
    "import pandas as pd"
   ]
  },
  {
   "cell_type": "code",
   "execution_count": 25,
   "metadata": {},
   "outputs": [
    {
     "data": {
      "text/html": [
       "<div>\n",
       "<style scoped>\n",
       "    .dataframe tbody tr th:only-of-type {\n",
       "        vertical-align: middle;\n",
       "    }\n",
       "\n",
       "    .dataframe tbody tr th {\n",
       "        vertical-align: top;\n",
       "    }\n",
       "\n",
       "    .dataframe thead th {\n",
       "        text-align: right;\n",
       "    }\n",
       "</style>\n",
       "<table border=\"1\" class=\"dataframe\">\n",
       "  <thead>\n",
       "    <tr style=\"text-align: right;\">\n",
       "      <th></th>\n",
       "      <th>Label</th>\n",
       "      <th>text</th>\n",
       "    </tr>\n",
       "  </thead>\n",
       "  <tbody>\n",
       "    <tr>\n",
       "      <th>0</th>\n",
       "      <td>ham</td>\n",
       "      <td>Go until jurong point, crazy.. Available only ...</td>\n",
       "    </tr>\n",
       "    <tr>\n",
       "      <th>1</th>\n",
       "      <td>ham</td>\n",
       "      <td>Ok lar... Joking wif u oni...</td>\n",
       "    </tr>\n",
       "    <tr>\n",
       "      <th>2</th>\n",
       "      <td>spam</td>\n",
       "      <td>Free entry in 2 a wkly comp to win FA Cup fina...</td>\n",
       "    </tr>\n",
       "    <tr>\n",
       "      <th>3</th>\n",
       "      <td>ham</td>\n",
       "      <td>U dun say so early hor... U c already then say...</td>\n",
       "    </tr>\n",
       "    <tr>\n",
       "      <th>4</th>\n",
       "      <td>ham</td>\n",
       "      <td>Nah I don't think he goes to usf, he lives aro...</td>\n",
       "    </tr>\n",
       "  </tbody>\n",
       "</table>\n",
       "</div>"
      ],
      "text/plain": [
       "  Label                                               text\n",
       "0   ham  Go until jurong point, crazy.. Available only ...\n",
       "1   ham                      Ok lar... Joking wif u oni...\n",
       "2  spam  Free entry in 2 a wkly comp to win FA Cup fina...\n",
       "3   ham  U dun say so early hor... U c already then say...\n",
       "4   ham  Nah I don't think he goes to usf, he lives aro..."
      ]
     },
     "execution_count": 25,
     "metadata": {},
     "output_type": "execute_result"
    }
   ],
   "source": [
    "# Read the CSV file 'spamclassification.csv' from the 'Datasets' folder using pandas\n",
    "# Specifying encoding='latin1' to avoid UnicodeDecodeError with special characters\n",
    "messages = pd.read_csv('Datasets/spamclassification.csv', encoding='latin1')\n",
    "\n",
    "# Display the first 5 rows of the DataFrame to get a quick look at the data\n",
    "messages.head()"
   ]
  },
  {
   "cell_type": "markdown",
   "metadata": {},
   "source": [
    "## Data Cleaning and Preprocessing"
   ]
  },
  {
   "cell_type": "code",
   "execution_count": 26,
   "metadata": {},
   "outputs": [],
   "source": [
    "# Import the regular expression module for text cleaning\n",
    "import re\n",
    "\n",
    "# Import the Natural Language Toolkit (nltk) library for text processing\n",
    "import nltk\n",
    "\n",
    "# Import a list of common English stopwords (e.g., \"the\", \"is\", \"and\") from nltk\n",
    "from nltk.corpus import stopwords\n",
    "\n",
    "# Import the Porter Stemmer algorithm from nltk for stemming words (reducing words to their base/root form)\n",
    "from nltk.stem.porter import PorterStemmer\n",
    "\n",
    "# Initialize the PorterStemmer object\n",
    "ps = PorterStemmer()"
   ]
  },
  {
   "cell_type": "code",
   "execution_count": 31,
   "metadata": {},
   "outputs": [],
   "source": [
    "corpus = []  # Initialize an empty list to store the cleaned and processed text data\n",
    "\n",
    "for i in range(0, len(messages)):\n",
    "    # Remove all characters except alphabets from the message text\n",
    "    review = re.sub('[^a-zA-Z]', ' ', messages['text'][i])\n",
    "\n",
    "    # Convert all characters to lowercase\n",
    "    review = review.lower()\n",
    "\n",
    "    # Split the sentence into individual words (tokenization)\n",
    "    review = review.split()\n",
    "\n",
    "    # Apply stemming to each word and remove stopwords \n",
    "    review = [ps.stem(word) for word in review if word not in stopwords.words('english')]\n",
    "\n",
    "    # Join the processed words back into a single string\n",
    "    review = ' '.join(review)\n",
    "\n",
    "    # Append the cleaned review to the corpus list\n",
    "    corpus.append(review)\n"
   ]
  },
  {
   "cell_type": "markdown",
   "metadata": {},
   "source": [
    "## Create Bag of Words Model with N-gram"
   ]
  },
  {
   "cell_type": "code",
   "execution_count": 32,
   "metadata": {},
   "outputs": [],
   "source": [
    "# Import the CountVectorizer class from scikit-learn's text feature extraction module\n",
    "from sklearn.feature_extraction.text import CountVectorizer"
   ]
  },
  {
   "cell_type": "code",
   "execution_count": 33,
   "metadata": {},
   "outputs": [
    {
     "name": "stdout",
     "output_type": "stream",
     "text": [
      "🔹 Unigram (ngram_range=(1, 1))\n",
      "Vocabulary (Unigrams):\n",
      "{'go': 22, 'great': 25, 'got': 24, 'wat': 90, 'ok': 56, 'free': 18, 'win': 94, 'text': 77, 'txt': 85, 'say': 67, 'alreadi': 0, 'think': 80, 'hey': 28, 'week': 92, 'back': 3, 'like': 38, 'still': 73, 'send': 69, 'even': 15, 'friend': 19, 'prize': 62, 'claim': 7, 'call': 4, 'mobil': 47, 'co': 8, 'home': 30, 'want': 89, 'today': 82, 'cash': 6, 'day': 12, 'repli': 64, 'www': 96, 'right': 65, 'thank': 78, 'take': 75, 'time': 81, 'use': 87, 'messag': 44, 'oh': 55, 'ye': 97, 'make': 42, 'way': 91, 'feel': 16, 'dont': 14, 'miss': 46, 'ur': 86, 'tri': 84, 'da': 11, 'lor': 39, 'meet': 43, 'realli': 63, 'get': 20, 'know': 33, 'love': 40, 'let': 37, 'work': 95, 'wait': 88, 'yeah': 98, 'tell': 76, 'pleas': 61, 'msg': 49, 'see': 68, 'pl': 60, 'need': 51, 'tomorrow': 83, 'hope': 31, 'well': 93, 'lt': 41, 'gt': 26, 'ask': 1, 'morn': 48, 'happi': 27, 'sorri': 72, 'give': 21, 'new': 52, 'find': 17, 'year': 99, 'later': 35, 'pick': 59, 'good': 23, 'come': 9, 'said': 66, 'hi': 29, 'babe': 2, 'im': 32, 'much': 50, 'stop': 74, 'one': 57, 'night': 53, 'servic': 70, 'dear': 13, 'thing': 79, 'contact': 10, 'last': 34, 'min': 45, 'number': 54, 'leav': 36, 'sleep': 71, 'care': 5, 'phone': 58}\n"
     ]
    }
   ],
   "source": [
    "print(\"🔹 Unigram (ngram_range=(1, 1))\")\n",
    "cv = CountVectorizer(max_features=100, binary=True, ngram_range=(1,1))\n",
    "X = cv.fit_transform(corpus).toarray()\n",
    "print(\"Vocabulary (Unigrams):\")\n",
    "print(cv.vocabulary_)"
   ]
  },
  {
   "cell_type": "code",
   "execution_count": 34,
   "metadata": {},
   "outputs": [
    {
     "name": "stdout",
     "output_type": "stream",
     "text": [
      "🔹 Bigram (ngram_range=(2, 2))\n",
      "Vocabulary (Bigrams):\n",
      "{'free entri': 32, 'claim call': 17, 'call claim': 3, 'free call': 31, 'call mobil': 9, 'chanc win': 16, 'txt word': 90, 'let know': 53, 'go home': 36, 'pleas call': 67, 'lt gt': 57, 'want go': 97, 'like lt': 54, 'sorri call': 80, 'call later': 8, 'ur award': 91, 'call custom': 4, 'custom servic': 24, 'cash prize': 15, 'po box': 68, 'tri contact': 87, 'draw show': 29, 'show prize': 79, 'prize guarante': 73, 'guarante call': 43, 'valid hr': 95, 'select receiv': 76, 'privat account': 71, 'account statement': 0, 'statement show': 82, 'call identifi': 5, 'identifi code': 49, 'code expir': 21, 'urgent mobil': 94, 'caller prize': 13, 'call landlin': 7, 'wat time': 98, 'ur mob': 93, 'gud ni': 45, 'new year': 62, 'send stop': 78, 'get back': 34, 'co uk': 20, 'gud mrng': 44, 'nice day': 63, 'lt decim': 56, 'decim gt': 26, 'txt nokia': 88, 'good morn': 38, 'ur friend': 92, 'good night': 39, 'network min': 61, 'repli call': 75, 'last night': 52, 'camera phone': 14, 'pick phone': 65, 'pl send': 66, 'send messag': 77, 'great day': 40, 'suit land': 84, 'land row': 51, 'good afternoon': 37, 'take care': 85, 'doubl min': 28, 'call mobileupd': 10, 'call optout': 11, 'gt min': 42, 'txt stop': 89, 'date servic': 25, 'pobox wq': 69, 'mobil number': 58, 'call land': 6, 'land line': 50, 'line claim': 55, 'claim valid': 19, 'gt lt': 41, 'hope good': 48, 'free text': 33, 'holiday cash': 47, 'prize claim': 72, 'nd attempt': 60, 'attempt contact': 1, 'claim ur': 18, 'redeem point': 74, 'point call': 70, 'ok lor': 64, 'want come': 96, 'stop text': 83, 'everi week': 30, 'come home': 23, 'happi new': 46, 'nation rate': 59, 'st week': 81, 'week txt': 99, 'tell ur': 86, 'gift voucher': 35, 'await collect': 2, 'dont know': 27, 'come back': 22, 'call per': 12}\n"
     ]
    }
   ],
   "source": [
    "print(\"🔹 Bigram (ngram_range=(2, 2))\")\n",
    "cv = CountVectorizer(max_features=100, binary=True, ngram_range=(2,2))\n",
    "X = cv.fit_transform(corpus).toarray()\n",
    "print(\"Vocabulary (Bigrams):\")\n",
    "print(cv.vocabulary_)"
   ]
  },
  {
   "cell_type": "code",
   "execution_count": 35,
   "metadata": {},
   "outputs": [
    {
     "name": "stdout",
     "output_type": "stream",
     "text": [
      "🔹 Trigram (ngram_range=(3, 3))\n",
      "Vocabulary (Trigrams):\n",
      "{'like lt gt': 43, 'sorri call later': 80, 'pleas call custom': 66, 'call custom servic': 6, 'custom servic repres': 22, 'guarante cash prize': 35, 'draw show prize': 24, 'show prize guarante': 78, 'prize guarante call': 70, 'special select receiv': 82, 'speak live oper': 81, 'live oper claim': 45, 'privat account statement': 68, 'account statement show': 0, 'call identifi code': 7, 'identifi code expir': 40, 'bonu caller prize': 4, 'select receiv award': 77, 'match pleas call': 54, 'urgent tri contact': 96, 'lt decim gt': 47, 'secret admir look': 76, 'admir look make': 1, 'look make contact': 46, 'make contact find': 53, 'contact find reveal': 19, 'find reveal think': 29, 'reveal think ur': 73, 'think ur special': 86, 'ur special call': 94, 'draw txt music': 25, 'www ldew com': 99, 'anytim network min': 2, 'camcord repli call': 12, 'cant pick phone': 13, 'pick phone right': 64, 'phone right pl': 63, 'right pl send': 74, 'pl send messag': 65, 'hg suit land': 37, 'suit land row': 85, 'land row hl': 42, 'call mobileupd call': 9, 'mobileupd call optout': 57, 'lt gt min': 49, 'free entri weekli': 30, 'urgent mobil number': 95, 'mobil number award': 56, 'guarante call land': 34, 'call land line': 8, 'land line claim': 41, 'line claim valid': 44, 'claim valid hr': 16, 'lt gt th': 51, 'lt gt lt': 48, 'gt lt gt': 33, 'caller prize nd': 11, 'prize nd attempt': 71, 'nd attempt contact': 58, 'worth discount voucher': 97, 'offer mobil cs': 61, 'statement show un': 83, 'show un redeem': 79, 'un redeem point': 92, 'redeem point call': 72, 'point call identifi': 67, 'new video phone': 59, 'happi new year': 36, 'everi wk txt': 28, 'lt gt minut': 50, 'free st week': 31, 'nokia tone ur': 60, 'everi week txt': 27, 'txt nokia get': 90, 'www getz co': 98, 'getz co uk': 32, 'co uk pobox': 17, 'uk pobox wq': 91, 'holiday cash await': 39, 'cash await collect': 14, 'await collect sae': 3, 'collect sae cs': 18, 'stop text call': 84, 'tri contact today': 89, 'contact today draw': 20, 'today draw show': 87, 'tone ur mob': 88, 'ur mob everi': 93, 'mob everi week': 55, 'row hl ldn': 75, 'call per min': 10, 'per min ntt': 62, 'ltd po box': 52, 'bt nation rate': 5, 'prize claim easi': 69, 'claim easi call': 15, 'easi call per': 26, 'costa del sol': 21, 'del sol holiday': 23, 'holiday await collect': 38}\n"
     ]
    }
   ],
   "source": [
    "print(\"🔹 Trigram (ngram_range=(3, 3))\")\n",
    "cv = CountVectorizer(max_features=100, binary=True, ngram_range=(3,3))\n",
    "X = cv.fit_transform(corpus).toarray()\n",
    "print(\"Vocabulary (Trigrams):\")\n",
    "print(cv.vocabulary_)"
   ]
  },
  {
   "cell_type": "markdown",
   "metadata": {},
   "source": [
    "When we set `ngram_range=(1, 1)` in `CountVectorizer`, we are only extracting **unigrams** — i.e., individual words.\n",
    "\n",
    "This is exactly what the **Bag of Words (BoW)** model does:\n",
    "- It builds a vocabulary of all unique words in the corpus\n",
    "- It creates a vector for each sentence based on the **frequency** of each word\n",
    "- It **ignores word order and context**\n",
    "\n",
    "So,\n",
    "- `ngram_range=(1, 1)` → Unigrams only → **BoW representation**\n",
    "\n",
    "🔍 Example:\n",
    "> Sentence: `\"Food is good\"`\n",
    "\n",
    "Unigrams: `[\"food\", \"is\", \"good\"]`  \n",
    "BoW vector: `[1, 1, 1]` for those 3 words\n",
    "\n",
    "➡️ Conclusion: **BoW is just a unigram model** — that's why `ngram_range=(1, 1)` produces the same feature set.\n"
   ]
  }
 ],
 "metadata": {
  "kernelspec": {
   "display_name": "Python 3",
   "language": "python",
   "name": "python3"
  },
  "language_info": {
   "codemirror_mode": {
    "name": "ipython",
    "version": 3
   },
   "file_extension": ".py",
   "mimetype": "text/x-python",
   "name": "python",
   "nbconvert_exporter": "python",
   "pygments_lexer": "ipython3",
   "version": "3.11.3"
  }
 },
 "nbformat": 4,
 "nbformat_minor": 2
}
