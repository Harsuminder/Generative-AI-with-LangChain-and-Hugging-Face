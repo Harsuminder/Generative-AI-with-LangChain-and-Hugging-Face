{
 "cells": [
  {
   "cell_type": "code",
   "execution_count": 33,
   "metadata": {},
   "outputs": [],
   "source": [
    "# Import the pandas library for data manipulation and analysis, especially for working with DataFrames\n",
    "import pandas as pd"
   ]
  },
  {
   "cell_type": "code",
   "execution_count": 34,
   "metadata": {},
   "outputs": [
    {
     "data": {
      "text/html": [
       "<div>\n",
       "<style scoped>\n",
       "    .dataframe tbody tr th:only-of-type {\n",
       "        vertical-align: middle;\n",
       "    }\n",
       "\n",
       "    .dataframe tbody tr th {\n",
       "        vertical-align: top;\n",
       "    }\n",
       "\n",
       "    .dataframe thead th {\n",
       "        text-align: right;\n",
       "    }\n",
       "</style>\n",
       "<table border=\"1\" class=\"dataframe\">\n",
       "  <thead>\n",
       "    <tr style=\"text-align: right;\">\n",
       "      <th></th>\n",
       "      <th>Label</th>\n",
       "      <th>text</th>\n",
       "    </tr>\n",
       "  </thead>\n",
       "  <tbody>\n",
       "    <tr>\n",
       "      <th>0</th>\n",
       "      <td>ham</td>\n",
       "      <td>Go until jurong point, crazy.. Available only ...</td>\n",
       "    </tr>\n",
       "    <tr>\n",
       "      <th>1</th>\n",
       "      <td>ham</td>\n",
       "      <td>Ok lar... Joking wif u oni...</td>\n",
       "    </tr>\n",
       "    <tr>\n",
       "      <th>2</th>\n",
       "      <td>spam</td>\n",
       "      <td>Free entry in 2 a wkly comp to win FA Cup fina...</td>\n",
       "    </tr>\n",
       "    <tr>\n",
       "      <th>3</th>\n",
       "      <td>ham</td>\n",
       "      <td>U dun say so early hor... U c already then say...</td>\n",
       "    </tr>\n",
       "    <tr>\n",
       "      <th>4</th>\n",
       "      <td>ham</td>\n",
       "      <td>Nah I don't think he goes to usf, he lives aro...</td>\n",
       "    </tr>\n",
       "  </tbody>\n",
       "</table>\n",
       "</div>"
      ],
      "text/plain": [
       "  Label                                               text\n",
       "0   ham  Go until jurong point, crazy.. Available only ...\n",
       "1   ham                      Ok lar... Joking wif u oni...\n",
       "2  spam  Free entry in 2 a wkly comp to win FA Cup fina...\n",
       "3   ham  U dun say so early hor... U c already then say...\n",
       "4   ham  Nah I don't think he goes to usf, he lives aro..."
      ]
     },
     "execution_count": 34,
     "metadata": {},
     "output_type": "execute_result"
    }
   ],
   "source": [
    "# Read the CSV file 'spamclassification.csv' from the 'Datasets' folder using pandas\n",
    "# Specifying encoding='latin1' to avoid UnicodeDecodeError with special characters\n",
    "messages = pd.read_csv('Datasets/spamclassification.csv', encoding='latin1')\n",
    "\n",
    "# Display the first 5 rows of the DataFrame to get a quick look at the data\n",
    "messages.head()"
   ]
  },
  {
   "cell_type": "markdown",
   "metadata": {},
   "source": [
    "## Data Cleaning and Preprocessing"
   ]
  },
  {
   "cell_type": "code",
   "execution_count": null,
   "metadata": {},
   "outputs": [],
   "source": [
    "# Import the regular expression module for text cleaning\n",
    "import re\n",
    "\n",
    "# Import the Natural Language Toolkit (nltk) library for text processing\n",
    "import nltk\n",
    "\n",
    "# Import a list of common English stopwords (e.g., \"the\", \"is\", \"and\") from nltk\n",
    "from nltk.corpus import stopwords\n",
    "\n",
    "# Import the Porter Stemmer algorithm from nltk for stemming words (reducing words to their base/root form)\n",
    "from nltk.stem.porter import PorterStemmer\n",
    "\n",
    "# Initialize the PorterStemmer object\n",
    "ps = PorterStemmer()"
   ]
  },
  {
   "cell_type": "code",
   "execution_count": 28,
   "metadata": {},
   "outputs": [],
   "source": [
    "corpus = []  # Initialize an empty list to store the cleaned and processed text data\n",
    "\n",
    "for i in range(0, len(messages)):\n",
    "    # Remove all characters except alphabets from the message text\n",
    "    review = re.sub('[^a-zA-Z]', ' ', messages['text'][i])\n",
    "\n",
    "    # Convert all characters to lowercase\n",
    "    review = review.lower()\n",
    "\n",
    "    # Split the sentence into individual words (tokenization)\n",
    "    review = review.split()\n",
    "\n",
    "    # Apply stemming to each word and remove stopwords \n",
    "    review = [ps.stem(word) for word in review if word in stopwords.words('english')]\n",
    "\n",
    "    # Join the processed words back into a single string\n",
    "    review = ' '.join(review)\n",
    "\n",
    "    # Append the cleaned review to the corpus list\n",
    "    corpus.append(review)\n"
   ]
  },
  {
   "cell_type": "markdown",
   "metadata": {},
   "source": [
    "## Create Bag of Words Model"
   ]
  },
  {
   "cell_type": "code",
   "execution_count": 37,
   "metadata": {},
   "outputs": [],
   "source": [
    "# Import the CountVectorizer class from scikit-learn's text feature extraction module\n",
    "from sklearn.feature_extraction.text import CountVectorizer\n",
    "\n",
    "# Initialize CountVectorizer with:\n",
    "# - max_features=2500: limit the vocabulary to the 2,500 most frequent words\n",
    "# - binary=True: represent word presence as 1 (present) or 0 (absent), rather than word counts\n",
    "cv = CountVectorizer(max_features=100, binary=True)\n"
   ]
  },
  {
   "cell_type": "code",
   "execution_count": null,
   "metadata": {},
   "outputs": [
    {
     "data": {
      "text/plain": [
       "(5574, 100)"
      ]
     },
     "execution_count": 38,
     "metadata": {},
     "output_type": "execute_result"
    }
   ],
   "source": [
    "# Transform the cleaned corpus into a binary feature matrix using CountVectorizer\n",
    "X = cv.fit_transform(corpus).toarray()\n",
    "\n",
    "# Display the shape of the resulting feature matrix (number of messages, number of features)\n",
    "X.shape"
   ]
  }
 ],
 "metadata": {
  "kernelspec": {
   "display_name": "Python 3",
   "language": "python",
   "name": "python3"
  },
  "language_info": {
   "codemirror_mode": {
    "name": "ipython",
    "version": 3
   },
   "file_extension": ".py",
   "mimetype": "text/x-python",
   "name": "python",
   "nbconvert_exporter": "python",
   "pygments_lexer": "ipython3",
   "version": "3.11.3"
  }
 },
 "nbformat": 4,
 "nbformat_minor": 2
}
