{
 "cells": [
  {
   "cell_type": "markdown",
   "id": "b419ccd1",
   "metadata": {},
   "source": [
    "# Simple RNN Project using IMDB Dataset"
   ]
  },
  {
   "cell_type": "code",
   "execution_count": 3,
   "id": "41779fdd",
   "metadata": {},
   "outputs": [],
   "source": [
    "import numpy as np\n",
    "import tensorflow as tf\n",
    "from tensorflow.keras.datasets import imdb\n",
    "from tensorflow.keras.preprocessing import sequence\n",
    "from tensorflow.keras.layers import Embedding, Dense, SimpleRNN\n",
    "from tensorflow.keras.models import Sequential"
   ]
  },
  {
   "cell_type": "code",
   "execution_count": 4,
   "id": "46b48897",
   "metadata": {},
   "outputs": [
    {
     "name": "stdout",
     "output_type": "stream",
     "text": [
      "Downloading data from https://storage.googleapis.com/tensorflow/tf-keras-datasets/imdb.npz\n",
      "17464789/17464789 [==============================] - 0s 0us/step\n",
      "Traning Data Shape: (25000,), Traning Labels Shape: (25000,)\n",
      " Testing Data Shape: (25000,), Testing Labels Shape: (25000,)\n"
     ]
    }
   ],
   "source": [
    "## Load the Dataset\n",
    "\n",
    "max_features=10000 # Vocabulary size\n",
    "(X_train,y_train),(X_test, y_test)= imdb.load_data(num_words=max_features)\n",
    "\n",
    "# Print the Shape of Data\n",
    "print(f'Traning Data Shape: {X_train.shape}, Traning Labels Shape: {y_train.shape}')\n",
    "print(f' Testing Data Shape: {X_test.shape}, Testing Labels Shape: {y_test.shape}')"
   ]
  },
  {
   "cell_type": "code",
   "execution_count": null,
   "id": "a6be03c6",
   "metadata": {},
   "outputs": [],
   "source": []
  }
 ],
 "metadata": {
  "kernelspec": {
   "display_name": "Python 3",
   "language": "python",
   "name": "python3"
  },
  "language_info": {
   "codemirror_mode": {
    "name": "ipython",
    "version": 3
   },
   "file_extension": ".py",
   "mimetype": "text/x-python",
   "name": "python",
   "nbconvert_exporter": "python",
   "pygments_lexer": "ipython3",
   "version": "3.11.3"
  }
 },
 "nbformat": 4,
 "nbformat_minor": 5
}
